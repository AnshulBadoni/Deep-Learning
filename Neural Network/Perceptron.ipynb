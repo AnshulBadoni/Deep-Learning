{
 "cells": [
  {
   "cell_type": "code",
   "execution_count": 1,
   "id": "4d05acc9",
   "metadata": {},
   "outputs": [],
   "source": [
    "  import numpy as np\n",
    "import matplotlib.pyplot as plt\n",
    "%matplotlib inline"
   ]
  },
  {
   "cell_type": "code",
   "execution_count": 49,
   "id": "088823d7",
   "metadata": {},
   "outputs": [],
   "source": [
    "age = [20,45,32]\n",
    "# income = [30000,70000,50000]\n",
    "# savings = [5000,20000,10000]\n",
    "target = [0,1,1]\n",
    "w = [0.05,0.09,0.1]\n",
    "b = 0.05\n",
    "alpha = 0.3\n",
    "e = 2.718\n"
   ]
  },
  {
   "cell_type": "code",
   "execution_count": 50,
   "id": "c23b8945",
   "metadata": {},
   "outputs": [],
   "source": [
    "#activation function\n",
    "def af(y):\n",
    "    predict = (1/(1+(e**(-y))))\n",
    "    return predict\n"
   ]
  },
  {
   "cell_type": "code",
   "execution_count": 51,
   "id": "5501452c",
   "metadata": {},
   "outputs": [],
   "source": [
    "#wieght update\n",
    "def update(out,i,b):\n",
    "    w[i] = alpha*(target[i] - out) * age[i]\n",
    "    b = b + alpha*(target[i] - out)\n",
    "    return w[i],b\n"
   ]
  },
  {
   "cell_type": "code",
   "execution_count": 52,
   "id": "8958b122",
   "metadata": {},
   "outputs": [],
   "source": [
    "def result(age):\n",
    "    y=0\n",
    "    for x in range(100):\n",
    "        for i in range(len(age)):\n",
    "            y = y + w[i] * age[i] + b\n",
    "            out = af(y)\n",
    "            index = i\n",
    "            if out == target[i]:\n",
    "                break\n",
    "            else:\n",
    "                update(out,i,b)\n",
    "        \n",
    "    return out,index\n"
   ]
  },
  {
   "cell_type": "code",
   "execution_count": 55,
   "id": "eb757325",
   "metadata": {},
   "outputs": [
    {
     "name": "stdout",
     "output_type": "stream",
     "text": [
      "Output: 1.151630012373e-50\n",
      "Index: 0\n"
     ]
    }
   ],
   "source": [
    "output, index = result([20])\n",
    "print(\"Output:\", output)\n",
    "print(\"Index:\", index)"
   ]
  },
  {
   "cell_type": "code",
   "execution_count": 57,
   "id": "6c991910",
   "metadata": {},
   "outputs": [
    {
     "data": {
      "text/plain": [
       "0.9999545550385778"
      ]
     },
     "execution_count": 57,
     "metadata": {},
     "output_type": "execute_result"
    }
   ],
   "source": [
    "af(10)"
   ]
  },
  {
   "cell_type": "code",
   "execution_count": 60,
   "id": "11de5f98",
   "metadata": {},
   "outputs": [
    {
     "data": {
      "text/plain": [
       "0.017993536805962367"
      ]
     },
     "execution_count": 60,
     "metadata": {},
     "output_type": "execute_result"
    }
   ],
   "source": [
    "af(-4)"
   ]
  },
  {
   "cell_type": "code",
   "execution_count": null,
   "id": "eeb1e499",
   "metadata": {},
   "outputs": [],
   "source": []
  },
  {
   "cell_type": "code",
   "execution_count": null,
   "id": "b8c7f91b",
   "metadata": {},
   "outputs": [],
   "source": []
  },
  {
   "cell_type": "code",
   "execution_count": null,
   "id": "279cf9e8",
   "metadata": {},
   "outputs": [],
   "source": []
  },
  {
   "cell_type": "code",
   "execution_count": null,
   "id": "eafaee07",
   "metadata": {},
   "outputs": [],
   "source": []
  },
  {
   "cell_type": "code",
   "execution_count": null,
   "id": "c9a46f03",
   "metadata": {},
   "outputs": [],
   "source": []
  }
 ],
 "metadata": {
  "kernelspec": {
   "display_name": "Python 3 (ipykernel)",
   "language": "python",
   "name": "python3"
  },
  "language_info": {
   "codemirror_mode": {
    "name": "ipython",
    "version": 3
   },
   "file_extension": ".py",
   "mimetype": "text/x-python",
   "name": "python",
   "nbconvert_exporter": "python",
   "pygments_lexer": "ipython3",
   "version": "3.11.3"
  }
 },
 "nbformat": 4,
 "nbformat_minor": 5
}
